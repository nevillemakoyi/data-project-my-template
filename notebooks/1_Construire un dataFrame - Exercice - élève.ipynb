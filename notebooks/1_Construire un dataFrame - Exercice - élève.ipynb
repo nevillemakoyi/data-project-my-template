{
 "cells": [
  {
   "cell_type": "markdown",
   "id": "67a7cd77",
   "metadata": {},
   "source": [
    "<h1> Exercice 1 </h1>\n",
    "\n",
    "\n",
    "Vous travaillez dans une entreprise de vente en ligne. Vous avez reçu des données de ventes journalières pour différents produits, réparties sur plusieurs listes. Votre tâche est de consolider ces données dans un DataFrame pour une analyse ultérieure.\n",
    "\n",
    "1) Créez un DataFrame pandas à partir de ces listes\n",
    "2) Définissez la colonnes products en tant qu'index\n",
    "3) affichez les données de la ligne correspondant au prodit \"keyboard\"\n",
    "4) Réinitialisez finalement l'index de votre dataframe"
   ]
  },
  {
   "cell_type": "code",
   "execution_count": null,
   "id": "cf129da5",
   "metadata": {},
   "outputs": [],
   "source": [
    "dates = ['2023-01-01', '2023-01-01', '2023-01-02', '2023-01-02']\n",
    "products = ['Keyboard', 'Mouse', 'Monitor', 'Mouse']\n",
    "quantities = [3, 5, 2, 3]\n",
    "unit_prices = [79.99, 25.50, 199.99, 25.50]"
   ]
  },
  {
   "cell_type": "code",
   "execution_count": null,
   "id": "7d23af27",
   "metadata": {},
   "outputs": [],
   "source": [
    "#1"
   ]
  },
  {
   "cell_type": "code",
   "execution_count": null,
   "id": "ace00d37",
   "metadata": {},
   "outputs": [],
   "source": [
    "#2"
   ]
  },
  {
   "cell_type": "code",
   "execution_count": null,
   "id": "ce6afdc3",
   "metadata": {},
   "outputs": [],
   "source": [
    "#3"
   ]
  },
  {
   "cell_type": "code",
   "execution_count": null,
   "id": "90dd4c83",
   "metadata": {},
   "outputs": [],
   "source": [
    "#4"
   ]
  },
  {
   "cell_type": "markdown",
   "id": "37992060",
   "metadata": {},
   "source": [
    "<h1> Exercice 2 </h1>\n",
    "\n",
    "vous devez importer un fichier CSV \"products_exercices.csv\" contenant des données de produits pour une analyse ultérieure. Le fichier CSV a des spécificités que vous devez prendre en compte lors de l'importation : \n",
    "- Ignorez la première ligne du fichier qui est un commentaire.\n",
    "- Utilisez le caractère séparateur ,.\n",
    "- Les valeurs null sont représentées par la chaîne \"Vide\".\n",
    "- Définissez la colonne product_id comme index du DataFrame.\n",
    "- Importez uniquement les colonnes products, category, et price et ignorez les autres colonnes.\n",
    "\n",
    "Extrait du fichier : \n",
    "\n",
    "//Ceci est un commentaire à ignorer <br>\n",
    "product_id,products,category,price,stock <br>\n",
    "1,Keyboard,Electronics,Vide,45 <br>\n",
    "2,Mouse,Electronics,29.99,150 <br>\n",
    "3,Monitor,Vide,199.99,Vide <br>\n",
    "4,Desk,Furniture,149.99,30"
   ]
  },
  {
   "cell_type": "code",
   "execution_count": null,
   "id": "289efd41",
   "metadata": {},
   "outputs": [],
   "source": []
  },
  {
   "cell_type": "markdown",
   "id": "6346b29e",
   "metadata": {},
   "source": [
    "<h1> Exercice 3 </h1>\n",
    "\n",
    "Vous travaillez pour une entreprise qui reçoit régulièrement des données de clients au format JSON. Les données sont structurées avec un objet parent nommé data, contenant une liste d'objets représentant les informations des clients. Votre tâche est d'importer ces données dans un DataFrame pour analyse et de les exporter en format JSON pour une utilisation ultérieure.\n",
    "\n",
    "1) Importez les données JSON de clients_exercices.json dans un DataFrame pandas. Assurez-vous de cibler l'objet data qui contient les informations nécessaires.\n",
    "2) Exportez le DataFrame résultant en un nouveau fichier JSON."
   ]
  },
  {
   "cell_type": "code",
   "execution_count": null,
   "id": "77e5c9d0",
   "metadata": {},
   "outputs": [],
   "source": [
    "#1"
   ]
  },
  {
   "cell_type": "code",
   "execution_count": null,
   "id": "87367b85",
   "metadata": {},
   "outputs": [],
   "source": [
    "#2"
   ]
  },
  {
   "cell_type": "code",
   "execution_count": 1,
   "id": "922cfc7f-1c0b-45f6-b0eb-1fe34ae506c1",
   "metadata": {},
   "outputs": [],
   "source": [
    "import pandas as pd"
   ]
  },
  {
   "cell_type": "code",
   "execution_count": 3,
   "id": "1fa333b6-5d44-4ba4-bd3c-add996620a99",
   "metadata": {},
   "outputs": [],
   "source": [
    "pd.set_option('display.max.rows', None)\n",
    "pd.set_option('display.max.columns', None)"
   ]
  },
  {
   "cell_type": "code",
   "execution_count": 13,
   "id": "21bf45a6-2dcf-4ac5-8d34-221ae3c242b3",
   "metadata": {},
   "outputs": [],
   "source": [
    "data = pd.read_csv('products_exercices.csv')\n",
    "df = data.copy()"
   ]
  },
  {
   "cell_type": "code",
   "execution_count": 15,
   "id": "a04178b7-32a5-4f64-a49a-d910e71daf15",
   "metadata": {},
   "outputs": [
    {
     "name": "stdout",
     "output_type": "stream",
     "text": [
      "<class 'pandas.core.frame.DataFrame'>\n",
      "MultiIndex: 5 entries, ('product_id', 'products', 'category', 'price') to ('4', 'Desk', 'Furniture', '149.99')\n",
      "Data columns (total 1 columns):\n",
      " #   Column                               Non-Null Count  Dtype \n",
      "---  ------                               --------------  ----- \n",
      " 0   //Ceci est un commentaire à ignorer  5 non-null      object\n",
      "dtypes: object(1)\n",
      "memory usage: 964.0+ bytes\n"
     ]
    }
   ],
   "source": [
    "df.info()"
   ]
  },
  {
   "cell_type": "code",
   "execution_count": 17,
   "id": "740c8781-b039-4f02-b238-2e3b25be0c15",
   "metadata": {},
   "outputs": [
    {
     "data": {
      "text/plain": [
       "product_id  products  category     price     stock\n",
       "1           Keyboard  Electronics  Vide         45\n",
       "2           Mouse     Electronics  29.99       150\n",
       "3           Monitor   Vide         199.99     Vide\n",
       "4           Desk      Furniture    149.99       30\n",
       "Name: //Ceci est un commentaire à ignorer, dtype: object"
      ]
     },
     "execution_count": 17,
     "metadata": {},
     "output_type": "execute_result"
    }
   ],
   "source": [
    "df['//Ceci est un commentaire à ignorer']"
   ]
  },
  {
   "cell_type": "code",
   "execution_count": 23,
   "id": "a7ac44fa-71e0-46e6-b97b-7d55cd960126",
   "metadata": {},
   "outputs": [],
   "source": [
    "del df['//Ceci est un commentaire à ignorer']"
   ]
  },
  {
   "cell_type": "code",
   "execution_count": 29,
   "id": "5181074c-e4ae-4549-b53e-8945fa07c282",
   "metadata": {},
   "outputs": [
    {
     "name": "stdout",
     "output_type": "stream",
     "text": [
      "<class 'pandas.core.frame.DataFrame'>\n",
      "MultiIndex: 5 entries, ('product_id', 'products', 'category', 'price') to ('4', 'Desk', 'Furniture', '149.99')\n",
      "Empty DataFrame\n"
     ]
    }
   ],
   "source": [
    "df.info()"
   ]
  },
  {
   "cell_type": "code",
   "execution_count": 35,
   "id": "1abca99e-6f7e-4b32-9dbe-07953c0a9edd",
   "metadata": {},
   "outputs": [
    {
     "data": {
      "text/html": [
       "<div>\n",
       "<style scoped>\n",
       "    .dataframe tbody tr th:only-of-type {\n",
       "        vertical-align: middle;\n",
       "    }\n",
       "\n",
       "    .dataframe tbody tr th {\n",
       "        vertical-align: top;\n",
       "    }\n",
       "\n",
       "    .dataframe thead th {\n",
       "        text-align: right;\n",
       "    }\n",
       "</style>\n",
       "<table border=\"1\" class=\"dataframe\">\n",
       "  <thead>\n",
       "    <tr style=\"text-align: right;\">\n",
       "      <th></th>\n",
       "      <th></th>\n",
       "      <th></th>\n",
       "      <th></th>\n",
       "    </tr>\n",
       "  </thead>\n",
       "  <tbody>\n",
       "    <tr>\n",
       "      <th>product_id</th>\n",
       "      <th>products</th>\n",
       "      <th>category</th>\n",
       "      <th>price</th>\n",
       "    </tr>\n",
       "    <tr>\n",
       "      <th>1</th>\n",
       "      <th>Keyboard</th>\n",
       "      <th>Electronics</th>\n",
       "      <th>Vide</th>\n",
       "    </tr>\n",
       "    <tr>\n",
       "      <th>2</th>\n",
       "      <th>Mouse</th>\n",
       "      <th>Electronics</th>\n",
       "      <th>29.99</th>\n",
       "    </tr>\n",
       "    <tr>\n",
       "      <th>3</th>\n",
       "      <th>Monitor</th>\n",
       "      <th>Vide</th>\n",
       "      <th>199.99</th>\n",
       "    </tr>\n",
       "    <tr>\n",
       "      <th>4</th>\n",
       "      <th>Desk</th>\n",
       "      <th>Furniture</th>\n",
       "      <th>149.99</th>\n",
       "    </tr>\n",
       "  </tbody>\n",
       "</table>\n",
       "</div>"
      ],
      "text/plain": [
       "Empty DataFrame\n",
       "Columns: []\n",
       "Index: [(product_id, products, category, price), (1, Keyboard, Electronics, Vide), (2, Mouse, Electronics, 29.99), (3, Monitor, Vide, 199.99), (4, Desk, Furniture, 149.99)]"
      ]
     },
     "execution_count": 35,
     "metadata": {},
     "output_type": "execute_result"
    }
   ],
   "source": [
    "df"
   ]
  },
  {
   "cell_type": "code",
   "execution_count": 37,
   "id": "78c99a8b-8a77-4e59-aece-8a039d90d252",
   "metadata": {},
   "outputs": [
    {
     "ename": "KeyError",
     "evalue": "'price'",
     "output_type": "error",
     "traceback": [
      "\u001b[1;31m---------------------------------------------------------------------------\u001b[0m",
      "\u001b[1;31mKeyError\u001b[0m                                  Traceback (most recent call last)",
      "File \u001b[1;32m~\\anaconda3\\Lib\\site-packages\\pandas\\core\\indexes\\base.py:3805\u001b[0m, in \u001b[0;36mIndex.get_loc\u001b[1;34m(self, key)\u001b[0m\n\u001b[0;32m   3804\u001b[0m \u001b[38;5;28;01mtry\u001b[39;00m:\n\u001b[1;32m-> 3805\u001b[0m     \u001b[38;5;28;01mreturn\u001b[39;00m \u001b[38;5;28mself\u001b[39m\u001b[38;5;241m.\u001b[39m_engine\u001b[38;5;241m.\u001b[39mget_loc(casted_key)\n\u001b[0;32m   3806\u001b[0m \u001b[38;5;28;01mexcept\u001b[39;00m \u001b[38;5;167;01mKeyError\u001b[39;00m \u001b[38;5;28;01mas\u001b[39;00m err:\n",
      "File \u001b[1;32mindex.pyx:167\u001b[0m, in \u001b[0;36mpandas._libs.index.IndexEngine.get_loc\u001b[1;34m()\u001b[0m\n",
      "File \u001b[1;32mindex.pyx:196\u001b[0m, in \u001b[0;36mpandas._libs.index.IndexEngine.get_loc\u001b[1;34m()\u001b[0m\n",
      "File \u001b[1;32mpandas\\\\_libs\\\\hashtable_class_helper.pxi:7081\u001b[0m, in \u001b[0;36mpandas._libs.hashtable.PyObjectHashTable.get_item\u001b[1;34m()\u001b[0m\n",
      "File \u001b[1;32mpandas\\\\_libs\\\\hashtable_class_helper.pxi:7089\u001b[0m, in \u001b[0;36mpandas._libs.hashtable.PyObjectHashTable.get_item\u001b[1;34m()\u001b[0m\n",
      "\u001b[1;31mKeyError\u001b[0m: 'price'",
      "\nThe above exception was the direct cause of the following exception:\n",
      "\u001b[1;31mKeyError\u001b[0m                                  Traceback (most recent call last)",
      "Cell \u001b[1;32mIn[37], line 1\u001b[0m\n\u001b[1;32m----> 1\u001b[0m df[\u001b[38;5;124m'\u001b[39m\u001b[38;5;124mprice\u001b[39m\u001b[38;5;124m'\u001b[39m]\n",
      "File \u001b[1;32m~\\anaconda3\\Lib\\site-packages\\pandas\\core\\frame.py:4102\u001b[0m, in \u001b[0;36mDataFrame.__getitem__\u001b[1;34m(self, key)\u001b[0m\n\u001b[0;32m   4100\u001b[0m \u001b[38;5;28;01mif\u001b[39;00m \u001b[38;5;28mself\u001b[39m\u001b[38;5;241m.\u001b[39mcolumns\u001b[38;5;241m.\u001b[39mnlevels \u001b[38;5;241m>\u001b[39m \u001b[38;5;241m1\u001b[39m:\n\u001b[0;32m   4101\u001b[0m     \u001b[38;5;28;01mreturn\u001b[39;00m \u001b[38;5;28mself\u001b[39m\u001b[38;5;241m.\u001b[39m_getitem_multilevel(key)\n\u001b[1;32m-> 4102\u001b[0m indexer \u001b[38;5;241m=\u001b[39m \u001b[38;5;28mself\u001b[39m\u001b[38;5;241m.\u001b[39mcolumns\u001b[38;5;241m.\u001b[39mget_loc(key)\n\u001b[0;32m   4103\u001b[0m \u001b[38;5;28;01mif\u001b[39;00m is_integer(indexer):\n\u001b[0;32m   4104\u001b[0m     indexer \u001b[38;5;241m=\u001b[39m [indexer]\n",
      "File \u001b[1;32m~\\anaconda3\\Lib\\site-packages\\pandas\\core\\indexes\\base.py:3812\u001b[0m, in \u001b[0;36mIndex.get_loc\u001b[1;34m(self, key)\u001b[0m\n\u001b[0;32m   3807\u001b[0m     \u001b[38;5;28;01mif\u001b[39;00m \u001b[38;5;28misinstance\u001b[39m(casted_key, \u001b[38;5;28mslice\u001b[39m) \u001b[38;5;129;01mor\u001b[39;00m (\n\u001b[0;32m   3808\u001b[0m         \u001b[38;5;28misinstance\u001b[39m(casted_key, abc\u001b[38;5;241m.\u001b[39mIterable)\n\u001b[0;32m   3809\u001b[0m         \u001b[38;5;129;01mand\u001b[39;00m \u001b[38;5;28many\u001b[39m(\u001b[38;5;28misinstance\u001b[39m(x, \u001b[38;5;28mslice\u001b[39m) \u001b[38;5;28;01mfor\u001b[39;00m x \u001b[38;5;129;01min\u001b[39;00m casted_key)\n\u001b[0;32m   3810\u001b[0m     ):\n\u001b[0;32m   3811\u001b[0m         \u001b[38;5;28;01mraise\u001b[39;00m InvalidIndexError(key)\n\u001b[1;32m-> 3812\u001b[0m     \u001b[38;5;28;01mraise\u001b[39;00m \u001b[38;5;167;01mKeyError\u001b[39;00m(key) \u001b[38;5;28;01mfrom\u001b[39;00m \u001b[38;5;21;01merr\u001b[39;00m\n\u001b[0;32m   3813\u001b[0m \u001b[38;5;28;01mexcept\u001b[39;00m \u001b[38;5;167;01mTypeError\u001b[39;00m:\n\u001b[0;32m   3814\u001b[0m     \u001b[38;5;66;03m# If we have a listlike key, _check_indexing_error will raise\u001b[39;00m\n\u001b[0;32m   3815\u001b[0m     \u001b[38;5;66;03m#  InvalidIndexError. Otherwise we fall through and re-raise\u001b[39;00m\n\u001b[0;32m   3816\u001b[0m     \u001b[38;5;66;03m#  the TypeError.\u001b[39;00m\n\u001b[0;32m   3817\u001b[0m     \u001b[38;5;28mself\u001b[39m\u001b[38;5;241m.\u001b[39m_check_indexing_error(key)\n",
      "\u001b[1;31mKeyError\u001b[0m: 'price'"
     ]
    }
   ],
   "source": [
    "df['price']"
   ]
  },
  {
   "cell_type": "code",
   "execution_count": null,
   "id": "0efd2694-5997-48f9-ad89-98ad773ffeef",
   "metadata": {},
   "outputs": [],
   "source": []
  }
 ],
 "metadata": {
  "kernelspec": {
   "display_name": "Python [conda env:base] *",
   "language": "python",
   "name": "conda-base-py"
  },
  "language_info": {
   "codemirror_mode": {
    "name": "ipython",
    "version": 3
   },
   "file_extension": ".py",
   "mimetype": "text/x-python",
   "name": "python",
   "nbconvert_exporter": "python",
   "pygments_lexer": "ipython3",
   "version": "3.12.7"
  }
 },
 "nbformat": 4,
 "nbformat_minor": 5
}
